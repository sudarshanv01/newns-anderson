{
 "cells": [
  {
   "cell_type": "code",
   "execution_count": 1,
   "id": "54e137ac",
   "metadata": {},
   "outputs": [],
   "source": [
    "%matplotlib inline\n",
    "from ipywidgets import interactive, fixed, widgets\n",
    "import numpy as np\n",
    "from plot_params import get_plot_params\n",
    "get_plot_params()"
   ]
  },
  {
   "cell_type": "code",
   "execution_count": 2,
   "id": "fa3c540a",
   "metadata": {},
   "outputs": [],
   "source": [
    "from interactive_utilities import ( interactive_newns_anderson_dos, \n",
    "                                   interactive_newns_anderson_energy, \n",
    "                                   interactive_newns_anderson_delta0\n",
    "                                  )"
   ]
  },
  {
   "cell_type": "code",
   "execution_count": 4,
   "id": "73ac2b95",
   "metadata": {},
   "outputs": [
    {
     "data": {
      "application/vnd.jupyter.widget-view+json": {
       "model_id": "dd6dde40236d4b1597031b1a5a2d78de",
       "version_major": 2,
       "version_minor": 0
      },
      "text/plain": [
       "interactive(children=(FloatSlider(value=0.0, description='Vak', max=20.0), IntSlider(value=-1, description='$\\…"
      ]
     },
     "metadata": {},
     "output_type": "display_data"
    }
   ],
   "source": [
    "w=interactive(interactive_newns_anderson_dos, \n",
    "              Vak = widgets.FloatSlider(min=0, max=20, step=0.1, description=\"Vak\", default=1),\n",
    "              eps_a = widgets.IntSlider(min=-5, max=-1, step=1, description=r'$\\epsilon_a$'),\n",
    "              eps_d = widgets.IntSlider(min=-5, max=1, step=1, description=r'$\\epsilon_d$'),\n",
    "              width= widgets.IntSlider(min=1, max=4, descirption = 'width'),\n",
    "              Delta0_mag = widgets.FloatSlider(min=0, max=4, step=0.5, description=r'$\\Delta_0$'),\n",
    "              eps_sp_min = widgets.IntSlider(min=-20, max=0, description=r'$\\epsilon_{sp}^{\\rm{min}}$'),\n",
    "              eps_sp_max = widgets.IntSlider(min=0, max=20, description=r'$\\epsilon_{sp}^{\\rm{max}}$'),\n",
    "             )\n",
    "w"
   ]
  },
  {
   "cell_type": "code",
   "execution_count": null,
   "id": "92a4a613",
   "metadata": {},
   "outputs": [],
   "source": []
  },
  {
   "cell_type": "code",
   "execution_count": null,
   "id": "27167f6e",
   "metadata": {},
   "outputs": [],
   "source": []
  }
 ],
 "metadata": {
  "kernelspec": {
   "display_name": "Python 3 (ipykernel)",
   "language": "python",
   "name": "python3"
  },
  "language_info": {
   "codemirror_mode": {
    "name": "ipython",
    "version": 3
   },
   "file_extension": ".py",
   "mimetype": "text/x-python",
   "name": "python",
   "nbconvert_exporter": "python",
   "pygments_lexer": "ipython3",
   "version": "3.8.10"
  }
 },
 "nbformat": 4,
 "nbformat_minor": 5
}
