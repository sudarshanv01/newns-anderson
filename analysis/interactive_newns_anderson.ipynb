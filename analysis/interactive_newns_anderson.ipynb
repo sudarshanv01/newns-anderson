{
 "cells": [
  {
   "cell_type": "code",
   "execution_count": 1,
   "id": "54e137ac",
   "metadata": {},
   "outputs": [],
   "source": [
    "%matplotlib inline\n",
    "from ipywidgets import interactive, fixed, widgets\n",
    "import numpy as np\n",
    "from plot_params import get_plot_params\n",
    "get_plot_params()"
   ]
  },
  {
   "cell_type": "code",
   "execution_count": 2,
   "id": "fa3c540a",
   "metadata": {},
   "outputs": [],
   "source": [
    "from interactive_utilities import interactive_newns_anderson_dos, interactive_newns_anderson_energy"
   ]
  },
  {
   "cell_type": "code",
   "execution_count": 5,
   "id": "73ac2b95",
   "metadata": {},
   "outputs": [
    {
     "data": {
      "application/vnd.jupyter.widget-view+json": {
       "model_id": "cdb073443bab4d1a921887c8951bbbed",
       "version_major": 2,
       "version_minor": 0
      },
      "text/plain": [
       "interactive(children=(FloatSlider(value=0.0, description='Vak', max=4.0), IntSlider(value=-1, description='$\\\\…"
      ]
     },
     "metadata": {},
     "output_type": "display_data"
    }
   ],
   "source": [
    "w=interactive(interactive_newns_anderson_energy, \n",
    "              Vak = widgets.FloatSlider(min=0, max=4, step=0.1, description=\"Vak\"),\n",
    "              eps_a = widgets.IntSlider(min=-5, max=-1, step=1, description=r'$\\epsilon_a$'),\n",
    "              width= widgets.IntSlider(min=1, max=4, descirption = 'width'),\n",
    "              Delta0_mag = widgets.FloatSlider(min=0, max=4, step=0.5, description=r'$\\Delta_0$'),\n",
    "              eps_sp_min = widgets.IntSlider(min=-17, max=0, description=r'$\\epsilon_{sp}^{\\rm{min}}$'),\n",
    "              eps_sp_max = widgets.IntSlider(min=0, max=17, description=r'$\\epsilon_{sp}^{\\rm{max}}$'),\n",
    "             )\n",
    "w"
   ]
  },
  {
   "cell_type": "code",
   "execution_count": null,
   "id": "92a4a613",
   "metadata": {},
   "outputs": [],
   "source": []
  },
  {
   "cell_type": "code",
   "execution_count": null,
   "id": "27167f6e",
   "metadata": {},
   "outputs": [],
   "source": []
  }
 ],
 "metadata": {
  "kernelspec": {
   "display_name": "Python 3 (ipykernel)",
   "language": "python",
   "name": "python3"
  },
  "language_info": {
   "codemirror_mode": {
    "name": "ipython",
    "version": 3
   },
   "file_extension": ".py",
   "mimetype": "text/x-python",
   "name": "python",
   "nbconvert_exporter": "python",
   "pygments_lexer": "ipython3",
   "version": "3.8.10"
  }
 },
 "nbformat": 4,
 "nbformat_minor": 5
}
