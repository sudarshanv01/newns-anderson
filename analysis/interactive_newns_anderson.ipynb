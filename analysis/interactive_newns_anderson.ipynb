{
 "cells": [
  {
   "cell_type": "code",
   "execution_count": 1,
   "id": "fbc6cff0",
   "metadata": {},
   "outputs": [],
   "source": [
    "%matplotlib inline\n",
    "from ipywidgets import interactive, fixed\n",
    "import numpy as np\n",
    "from plot_params import get_plot_params\n",
    "get_plot_params()"
   ]
  },
  {
   "cell_type": "code",
   "execution_count": 2,
   "id": "c093baf5",
   "metadata": {},
   "outputs": [],
   "source": [
    "from interactive_utilities import interactive_newns_anderson_dos"
   ]
  },
  {
   "cell_type": "code",
   "execution_count": 3,
   "id": "048eaf2b",
   "metadata": {},
   "outputs": [
    {
     "data": {
      "application/vnd.jupyter.widget-view+json": {
       "model_id": "7487d354950249688f12c0ff12f5b219",
       "version_major": 2,
       "version_minor": 0
      },
      "text/plain": [
       "interactive(children=(IntSlider(value=1, description='Vak', max=10, min=1), IntSlider(value=-1, description='e…"
      ]
     },
     "metadata": {},
     "output_type": "display_data"
    }
   ],
   "source": [
    "w=interactive(interactive_newns_anderson_dos, \n",
    "              Vak=(1,10), \n",
    "              eps_a=(-5, 5),\n",
    "              eps_d=(-5, 2),\n",
    "              width=(2, 10),\n",
    "              Delta0_mag=2.0,\n",
    "              eps_sp_min=-15,\n",
    "              eps_sp_max=15,\n",
    "             )\n",
    "w"
   ]
  },
  {
   "cell_type": "code",
   "execution_count": null,
   "id": "b3dd83f2",
   "metadata": {},
   "outputs": [],
   "source": []
  },
  {
   "cell_type": "code",
   "execution_count": null,
   "id": "6a22230b",
   "metadata": {},
   "outputs": [],
   "source": []
  }
 ],
 "metadata": {
  "kernelspec": {
   "display_name": "Python 3 (ipykernel)",
   "language": "python",
   "name": "python3"
  },
  "language_info": {
   "codemirror_mode": {
    "name": "ipython",
    "version": 3
   },
   "file_extension": ".py",
   "mimetype": "text/x-python",
   "name": "python",
   "nbconvert_exporter": "python",
   "pygments_lexer": "ipython3",
   "version": "3.8.10"
  }
 },
 "nbformat": 4,
 "nbformat_minor": 5
}
